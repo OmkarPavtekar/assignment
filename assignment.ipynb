{
 "cells": [
  {
   "cell_type": "code",
   "execution_count": 8,
   "metadata": {},
   "outputs": [
    {
     "name": "stdout",
     "output_type": "stream",
     "text": [
      "Top 5 genre counts on theatre:\n",
      "\n",
      "Comedy             5\n",
      "Thriller           5\n",
      "Action             3\n",
      "Science fiction    3\n",
      "Adventure          2\n",
      "Name: genres, dtype: int64\n",
      "Top 5 genre counts on channel:\n",
      "\n",
      "Action       88\n",
      "Comedy       80\n",
      "Drama        72\n",
      "Thriller     70\n",
      "Adventure    49\n",
      "Name: genres, dtype: int64\n",
      "Action       91\n",
      "Comedy       85\n",
      "Thriller     75\n",
      "Drama        72\n",
      "Adventure    51\n",
      "Name: genres, dtype: int64\n",
      "Top 5 genre in combined theatre and channel are:\n",
      "\n",
      "Action       91\n",
      "Comedy       85\n",
      "Thriller     75\n",
      "Drama        72\n",
      "Adventure    51\n",
      "Name: genres, dtype: int64\n"
     ]
    }
   ],
   "source": [
    "import numpy as np\n",
    "import pandas as pd\n",
    "import sqlalchemy as sqlal\n",
    "import requests\n",
    "def configure_api(date, secretkey, zipcode, line_up_id, datetm):\n",
    "    final_link_theatre = \"http://data.tmsapi.com/v1.1/movies/showings?startDate=\" + date + \"&zip=\" + zipcode + \"&api_key=\" + secretkey\n",
    "    final_link_airing = \"http://data.tmsapi.com/v1.1/movies/airings?lineupId=\" + line_up_id +  \"&startDateTime=\" + date +  \"&api_key=\" + secretkey\n",
    "    resp_theatre = requests.get(final_link_theatre)\n",
    "    resp_airing = requests.get(final_link_airing)\n",
    "    return resp_theatre, resp_airing\n",
    "\n",
    "def fetch_data_from_api_and_load_into_sql(req_api, table_name, engine, flag):\n",
    "    if req_api.text!='':\n",
    "        df = pd.DataFrame.from_dict(req_api.json())\n",
    "        if flag==\"channel\":\n",
    "            df = pd.concat([df.drop('program', axis=1), pd.DataFrame(df['program'].tolist())], axis=1)\n",
    "        df = df[[\"title\", \"genres\", \"shortDescription\", \"releaseYear\"]].copy()\n",
    "        df = df.explode(\"genres\")\n",
    "        df[\"theatreOrChannel\"] = flag\n",
    "    else:\n",
    "        print(\"Invalid data\")\n",
    "    df.to_sql(table_name, con=engine)\n",
    "\n",
    "def analysis_on_data(sql_engine, table1, table2):\n",
    "    df_theatre = pd.read_sql_table(table1, sql_engine)\n",
    "    df_channel = pd.read_sql_table(table2, sql_engine)\n",
    "    print(\"Top 5 genre counts on theatre:\\n\")\n",
    "    print(df_theatre.genres.value_counts().nlargest(5))\n",
    "    print(\"Top 5 genre counts on channel:\\n\")\n",
    "    print(df_channel.genres.value_counts().nlargest(5))\n",
    "    df_combined = df_theatre.append(df_channel, ignore_index=True)\n",
    "    print(df_combined.genres.value_counts().nlargest(5))\n",
    "    df_max_genres = df_combined[df_combined[\"genres\"].isin(df_combined.genres.value_counts().nlargest(5).index.to_list())]\n",
    "    return df_max_genres\n",
    "                                        \n",
    "if __name__ == '__main__':\n",
    "    engine = sqlal.create_engine('sqlite:///:memory:')\n",
    "    resp_theatre, resp_airing = configure_api(\"2020-11-18\", \"eyejfpj8v2ssrvvdzrccwgpe\", \"78701\", \"USA-TX42500-X\", \"2020-11-18T09:30Z\")\n",
    "    fetch_data_from_api_and_load_into_sql(resp_theatre, \"theatre\",engine, \"theatre\")\n",
    "    fetch_data_from_api_and_load_into_sql(resp_airing, \"channel\",engine, \"channel\")\n",
    "    df_max_genres_count = analysis_on_data(engine, \"theatre\", \"channel\")\n",
    "    print(\"Top 5 genre in combined theatre and channel are:\\n\")\n",
    "    print(df_max_genres_count.genres.value_counts()) \n",
    "    \n",
    "    \n",
    "    "
   ]
  },
  {
   "cell_type": "code",
   "execution_count": 13,
   "metadata": {},
   "outputs": [],
   "source": [
    "import json\n",
    "meta = sqlal.MetaData()\n",
    "meta.reflect(bind=engine)  # http://docs.sqlalchemy.org/en/rel_0_9/core/reflection.html\n",
    "result = {}\n",
    "for table in meta.sorted_tables:\n",
    "    result[table.name] = [dict(row) for row in engine.execute(table.select())]\n",
    "with open('data.json', 'w') as outfile:\n",
    "    json.dump(result, outfile)"
   ]
  }
 ],
 "metadata": {
  "kernelspec": {
   "display_name": "Python 3",
   "language": "python",
   "name": "python3"
  },
  "language_info": {
   "codemirror_mode": {
    "name": "ipython",
    "version": 3
   },
   "file_extension": ".py",
   "mimetype": "text/x-python",
   "name": "python",
   "nbconvert_exporter": "python",
   "pygments_lexer": "ipython3",
   "version": "3.5.3"
  }
 },
 "nbformat": 4,
 "nbformat_minor": 2
}
